{
 "cells": [
  {
   "cell_type": "code",
   "execution_count": 24,
   "id": "8ccf2ea0",
   "metadata": {},
   "outputs": [
    {
     "name": "stdout",
     "output_type": "stream",
     "text": [
      "Requirement already satisfied: jupyterthemes in c:\\users\\tck\\anaconda3\\lib\\site-packages (0.20.0)\n",
      "Requirement already satisfied: lesscpy>=0.11.2 in c:\\users\\tck\\anaconda3\\lib\\site-packages (from jupyterthemes) (0.15.1)\n",
      "Requirement already satisfied: matplotlib>=1.4.3 in c:\\users\\tck\\anaconda3\\lib\\site-packages (from jupyterthemes) (3.5.1)\n",
      "Requirement already satisfied: ipython>=5.4.1 in c:\\users\\tck\\anaconda3\\lib\\site-packages (from jupyterthemes) (8.2.0)\n",
      "Requirement already satisfied: jupyter-core in c:\\users\\tck\\anaconda3\\lib\\site-packages (from jupyterthemes) (4.9.2)\n",
      "Requirement already satisfied: notebook>=5.6.0 in c:\\users\\tck\\anaconda3\\lib\\site-packages (from jupyterthemes) (6.4.8)\n",
      "Requirement already satisfied: setuptools>=18.5 in c:\\users\\tck\\anaconda3\\lib\\site-packages (from ipython>=5.4.1->jupyterthemes) (61.2.0)\n",
      "Requirement already satisfied: stack-data in c:\\users\\tck\\anaconda3\\lib\\site-packages (from ipython>=5.4.1->jupyterthemes) (0.2.0)\n",
      "Requirement already satisfied: backcall in c:\\users\\tck\\anaconda3\\lib\\site-packages (from ipython>=5.4.1->jupyterthemes) (0.2.0)\n",
      "Requirement already satisfied: pickleshare in c:\\users\\tck\\anaconda3\\lib\\site-packages (from ipython>=5.4.1->jupyterthemes) (0.7.5)\n",
      "Requirement already satisfied: decorator in c:\\users\\tck\\anaconda3\\lib\\site-packages (from ipython>=5.4.1->jupyterthemes) (5.1.1)\n",
      "Requirement already satisfied: prompt-toolkit!=3.0.0,!=3.0.1,<3.1.0,>=2.0.0 in c:\\users\\tck\\anaconda3\\lib\\site-packages (from ipython>=5.4.1->jupyterthemes) (3.0.20)\n",
      "Requirement already satisfied: pygments>=2.4.0 in c:\\users\\tck\\anaconda3\\lib\\site-packages (from ipython>=5.4.1->jupyterthemes) (2.11.2)\n",
      "Requirement already satisfied: traitlets>=5 in c:\\users\\tck\\anaconda3\\lib\\site-packages (from ipython>=5.4.1->jupyterthemes) (5.1.1)\n",
      "Requirement already satisfied: colorama in c:\\users\\tck\\anaconda3\\lib\\site-packages (from ipython>=5.4.1->jupyterthemes) (0.4.4)\n",
      "Requirement already satisfied: jedi>=0.16 in c:\\users\\tck\\anaconda3\\lib\\site-packages (from ipython>=5.4.1->jupyterthemes) (0.18.1)\n",
      "Requirement already satisfied: matplotlib-inline in c:\\users\\tck\\anaconda3\\lib\\site-packages (from ipython>=5.4.1->jupyterthemes) (0.1.2)\n",
      "Requirement already satisfied: ply in c:\\users\\tck\\anaconda3\\lib\\site-packages (from lesscpy>=0.11.2->jupyterthemes) (3.11)\n",
      "Requirement already satisfied: python-dateutil>=2.7 in c:\\users\\tck\\anaconda3\\lib\\site-packages (from matplotlib>=1.4.3->jupyterthemes) (2.8.2)\n",
      "Requirement already satisfied: numpy>=1.17 in c:\\users\\tck\\anaconda3\\lib\\site-packages (from matplotlib>=1.4.3->jupyterthemes) (1.23.5)\n",
      "Requirement already satisfied: fonttools>=4.22.0 in c:\\users\\tck\\anaconda3\\lib\\site-packages (from matplotlib>=1.4.3->jupyterthemes) (4.25.0)\n",
      "Requirement already satisfied: pillow>=6.2.0 in c:\\users\\tck\\anaconda3\\lib\\site-packages (from matplotlib>=1.4.3->jupyterthemes) (9.0.1)\n",
      "Requirement already satisfied: kiwisolver>=1.0.1 in c:\\users\\tck\\anaconda3\\lib\\site-packages (from matplotlib>=1.4.3->jupyterthemes) (1.3.2)\n",
      "Requirement already satisfied: pyparsing>=2.2.1 in c:\\users\\tck\\anaconda3\\lib\\site-packages (from matplotlib>=1.4.3->jupyterthemes) (3.0.4)\n",
      "Requirement already satisfied: cycler>=0.10 in c:\\users\\tck\\anaconda3\\lib\\site-packages (from matplotlib>=1.4.3->jupyterthemes) (0.11.0)\n",
      "Requirement already satisfied: packaging>=20.0 in c:\\users\\tck\\anaconda3\\lib\\site-packages (from matplotlib>=1.4.3->jupyterthemes) (21.3)\n",
      "Requirement already satisfied: jinja2 in c:\\users\\tck\\anaconda3\\lib\\site-packages (from notebook>=5.6.0->jupyterthemes) (2.11.3)\n",
      "Requirement already satisfied: argon2-cffi in c:\\users\\tck\\anaconda3\\lib\\site-packages (from notebook>=5.6.0->jupyterthemes) (21.3.0)\n",
      "Requirement already satisfied: terminado>=0.8.3 in c:\\users\\tck\\anaconda3\\lib\\site-packages (from notebook>=5.6.0->jupyterthemes) (0.13.1)\n",
      "Requirement already satisfied: prometheus-client in c:\\users\\tck\\anaconda3\\lib\\site-packages (from notebook>=5.6.0->jupyterthemes) (0.13.1)\n",
      "Requirement already satisfied: Send2Trash>=1.8.0 in c:\\users\\tck\\anaconda3\\lib\\site-packages (from notebook>=5.6.0->jupyterthemes) (1.8.0)\n",
      "Requirement already satisfied: nbconvert in c:\\users\\tck\\anaconda3\\lib\\site-packages (from notebook>=5.6.0->jupyterthemes) (6.4.4)\n",
      "Requirement already satisfied: ipython-genutils in c:\\users\\tck\\anaconda3\\lib\\site-packages (from notebook>=5.6.0->jupyterthemes) (0.2.0)\n",
      "Requirement already satisfied: tornado>=6.1 in c:\\users\\tck\\anaconda3\\lib\\site-packages (from notebook>=5.6.0->jupyterthemes) (6.1)\n",
      "Requirement already satisfied: pyzmq>=17 in c:\\users\\tck\\anaconda3\\lib\\site-packages (from notebook>=5.6.0->jupyterthemes) (22.3.0)\n",
      "Requirement already satisfied: nest-asyncio>=1.5 in c:\\users\\tck\\anaconda3\\lib\\site-packages (from notebook>=5.6.0->jupyterthemes) (1.5.5)\n",
      "Requirement already satisfied: nbformat in c:\\users\\tck\\anaconda3\\lib\\site-packages (from notebook>=5.6.0->jupyterthemes) (5.3.0)\n",
      "Requirement already satisfied: ipykernel in c:\\users\\tck\\anaconda3\\lib\\site-packages (from notebook>=5.6.0->jupyterthemes) (6.9.1)\n",
      "Requirement already satisfied: jupyter-client>=5.3.4 in c:\\users\\tck\\anaconda3\\lib\\site-packages (from notebook>=5.6.0->jupyterthemes) (6.1.12)\n",
      "Requirement already satisfied: pywin32>=1.0 in c:\\users\\tck\\anaconda3\\lib\\site-packages (from jupyter-core->jupyterthemes) (302)\n",
      "Requirement already satisfied: parso<0.9.0,>=0.8.0 in c:\\users\\tck\\anaconda3\\lib\\site-packages (from jedi>=0.16->ipython>=5.4.1->jupyterthemes) (0.8.3)\n",
      "Requirement already satisfied: wcwidth in c:\\users\\tck\\anaconda3\\lib\\site-packages (from prompt-toolkit!=3.0.0,!=3.0.1,<3.1.0,>=2.0.0->ipython>=5.4.1->jupyterthemes) (0.2.5)\n",
      "Requirement already satisfied: six>=1.5 in c:\\users\\tck\\anaconda3\\lib\\site-packages (from python-dateutil>=2.7->matplotlib>=1.4.3->jupyterthemes) (1.16.0)\n",
      "Requirement already satisfied: pywinpty>=1.1.0 in c:\\users\\tck\\anaconda3\\lib\\site-packages (from terminado>=0.8.3->notebook>=5.6.0->jupyterthemes) (2.0.2)\n",
      "Requirement already satisfied: argon2-cffi-bindings in c:\\users\\tck\\anaconda3\\lib\\site-packages (from argon2-cffi->notebook>=5.6.0->jupyterthemes) (21.2.0)\n",
      "Requirement already satisfied: debugpy<2.0,>=1.0.0 in c:\\users\\tck\\anaconda3\\lib\\site-packages (from ipykernel->notebook>=5.6.0->jupyterthemes) (1.5.1)\n",
      "Requirement already satisfied: MarkupSafe>=0.23 in c:\\users\\tck\\anaconda3\\lib\\site-packages (from jinja2->notebook>=5.6.0->jupyterthemes) (2.0.1)\n",
      "Requirement already satisfied: pandocfilters>=1.4.1 in c:\\users\\tck\\anaconda3\\lib\\site-packages (from nbconvert->notebook>=5.6.0->jupyterthemes) (1.5.0)\n",
      "Requirement already satisfied: entrypoints>=0.2.2 in c:\\users\\tck\\anaconda3\\lib\\site-packages (from nbconvert->notebook>=5.6.0->jupyterthemes) (0.4)\n",
      "Requirement already satisfied: bleach in c:\\users\\tck\\anaconda3\\lib\\site-packages (from nbconvert->notebook>=5.6.0->jupyterthemes) (4.1.0)\n",
      "Requirement already satisfied: nbclient<0.6.0,>=0.5.0 in c:\\users\\tck\\anaconda3\\lib\\site-packages (from nbconvert->notebook>=5.6.0->jupyterthemes) (0.5.13)\n",
      "Requirement already satisfied: jupyterlab-pygments in c:\\users\\tck\\anaconda3\\lib\\site-packages (from nbconvert->notebook>=5.6.0->jupyterthemes) (0.1.2)\n",
      "Requirement already satisfied: testpath in c:\\users\\tck\\anaconda3\\lib\\site-packages (from nbconvert->notebook>=5.6.0->jupyterthemes) (0.5.0)\n",
      "Requirement already satisfied: mistune<2,>=0.8.1 in c:\\users\\tck\\anaconda3\\lib\\site-packages (from nbconvert->notebook>=5.6.0->jupyterthemes) (0.8.4)\n",
      "Requirement already satisfied: defusedxml in c:\\users\\tck\\anaconda3\\lib\\site-packages (from nbconvert->notebook>=5.6.0->jupyterthemes) (0.7.1)\n",
      "Requirement already satisfied: beautifulsoup4 in c:\\users\\tck\\anaconda3\\lib\\site-packages (from nbconvert->notebook>=5.6.0->jupyterthemes) (4.11.1)\n",
      "Requirement already satisfied: fastjsonschema in c:\\users\\tck\\anaconda3\\lib\\site-packages (from nbformat->notebook>=5.6.0->jupyterthemes) (2.15.1)\n",
      "Requirement already satisfied: jsonschema>=2.6 in c:\\users\\tck\\anaconda3\\lib\\site-packages (from nbformat->notebook>=5.6.0->jupyterthemes) (4.4.0)\n",
      "Requirement already satisfied: asttokens in c:\\users\\tck\\anaconda3\\lib\\site-packages (from stack-data->ipython>=5.4.1->jupyterthemes) (2.0.5)\n",
      "Requirement already satisfied: pure-eval in c:\\users\\tck\\anaconda3\\lib\\site-packages (from stack-data->ipython>=5.4.1->jupyterthemes) (0.2.2)\n",
      "Requirement already satisfied: executing in c:\\users\\tck\\anaconda3\\lib\\site-packages (from stack-data->ipython>=5.4.1->jupyterthemes) (0.8.3)\n",
      "Requirement already satisfied: pyrsistent!=0.17.0,!=0.17.1,!=0.17.2,>=0.14.0 in c:\\users\\tck\\anaconda3\\lib\\site-packages (from jsonschema>=2.6->nbformat->notebook>=5.6.0->jupyterthemes) (0.18.0)\n",
      "Requirement already satisfied: attrs>=17.4.0 in c:\\users\\tck\\anaconda3\\lib\\site-packages (from jsonschema>=2.6->nbformat->notebook>=5.6.0->jupyterthemes) (21.4.0)\n",
      "Requirement already satisfied: cffi>=1.0.1 in c:\\users\\tck\\anaconda3\\lib\\site-packages (from argon2-cffi-bindings->argon2-cffi->notebook>=5.6.0->jupyterthemes) (1.15.0)\n",
      "Requirement already satisfied: soupsieve>1.2 in c:\\users\\tck\\anaconda3\\lib\\site-packages (from beautifulsoup4->nbconvert->notebook>=5.6.0->jupyterthemes) (2.3.1)\n",
      "Requirement already satisfied: webencodings in c:\\users\\tck\\anaconda3\\lib\\site-packages (from bleach->nbconvert->notebook>=5.6.0->jupyterthemes) (0.5.1)\n",
      "Requirement already satisfied: pycparser in c:\\users\\tck\\anaconda3\\lib\\site-packages (from cffi>=1.0.1->argon2-cffi-bindings->argon2-cffi->notebook>=5.6.0->jupyterthemes) (2.21)\n"
     ]
    },
    {
     "name": "stderr",
     "output_type": "stream",
     "text": [
      "WARNING: Ignoring invalid distribution -pencv-python (c:\\users\\tck\\anaconda3\\lib\\site-packages)\n",
      "WARNING: Ignoring invalid distribution -pencv-python (c:\\users\\tck\\anaconda3\\lib\\site-packages)\n",
      "WARNING: Ignoring invalid distribution -pencv-python (c:\\users\\tck\\anaconda3\\lib\\site-packages)\n",
      "WARNING: Ignoring invalid distribution -pencv-python (c:\\users\\tck\\anaconda3\\lib\\site-packages)\n",
      "WARNING: Ignoring invalid distribution -pencv-python (c:\\users\\tck\\anaconda3\\lib\\site-packages)\n",
      "WARNING: Ignoring invalid distribution -pencv-python (c:\\users\\tck\\anaconda3\\lib\\site-packages)\n"
     ]
    }
   ],
   "source": [
    "!pip install jupyterthemes"
   ]
  },
  {
   "cell_type": "code",
   "execution_count": 25,
   "id": "dcbdc7a5",
   "metadata": {
    "scrolled": false
   },
   "outputs": [
    {
     "name": "stdout",
     "output_type": "stream",
     "text": [
      "Available Themes: \n",
      "   chesterish\n",
      "   grade3\n",
      "   gruvboxd\n",
      "   gruvboxl\n",
      "   monokai\n",
      "   oceans16\n",
      "   onedork\n",
      "   solarizedd\n",
      "   solarizedl\n"
     ]
    }
   ],
   "source": [
    "!jt -l\n",
    "\n",
    "# !jt 원래 테마로 돌아옴\n",
    "# https://bio-info.tistory.com/15"
   ]
  },
  {
   "cell_type": "code",
   "execution_count": 26,
   "id": "2cdc2efb",
   "metadata": {
    "scrolled": true
   },
   "outputs": [
    {
     "name": "stdout",
     "output_type": "stream",
     "text": [
      "usage: jt [-h] [-l] [-t THEME] [-f MONOFONT] [-fs MONOSIZE] [-nf NBFONT]\n",
      "          [-nfs NBFONTSIZE] [-tf TCFONT] [-tfs TCFONTSIZE] [-dfs DFFONTSIZE]\n",
      "          [-ofs OUTFONTSIZE] [-mathfs MATHFONTSIZE] [-m MARGINS]\n",
      "          [-cursw CURSORWIDTH] [-cursc CURSORCOLOR] [-cellw CELLWIDTH]\n",
      "          [-lineh LINEHEIGHT] [-altp] [-altmd] [-altout] [-P] [-T] [-N] [-kl]\n",
      "          [-vim] [-r] [-dfonts]\n",
      "\n",
      "optional arguments:\n",
      "  -h, --help            show this help message and exit\n",
      "  -l, --list            list available themes\n",
      "  -t THEME, --theme THEME\n",
      "                        theme name to install\n",
      "  -f MONOFONT, --monofont MONOFONT\n",
      "                        monospace code font\n",
      "  -fs MONOSIZE, --monosize MONOSIZE\n",
      "                        code font-size\n",
      "  -nf NBFONT, --nbfont NBFONT\n",
      "                        notebook font\n",
      "  -nfs NBFONTSIZE, --nbfontsize NBFONTSIZE\n",
      "                        notebook fontsize\n",
      "  -tf TCFONT, --tcfont TCFONT\n",
      "                        txtcell font\n",
      "  -tfs TCFONTSIZE, --tcfontsize TCFONTSIZE\n",
      "                        txtcell fontsize\n",
      "  -dfs DFFONTSIZE, --dffontsize DFFONTSIZE\n",
      "                        pandas dataframe fontsize\n",
      "  -ofs OUTFONTSIZE, --outfontsize OUTFONTSIZE\n",
      "                        output area fontsize\n",
      "  -mathfs MATHFONTSIZE, --mathfontsize MATHFONTSIZE\n",
      "                        mathjax fontsize (in %)\n",
      "  -m MARGINS, --margins MARGINS\n",
      "                        fix margins of main intro page\n",
      "  -cursw CURSORWIDTH, --cursorwidth CURSORWIDTH\n",
      "                        set cursorwidth (px)\n",
      "  -cursc CURSORCOLOR, --cursorcolor CURSORCOLOR\n",
      "                        cursor color (r, b, g, p)\n",
      "  -cellw CELLWIDTH, --cellwidth CELLWIDTH\n",
      "                        set cell width (px or %)\n",
      "  -lineh LINEHEIGHT, --lineheight LINEHEIGHT\n",
      "                        code/text line-height (%)\n",
      "  -altp, --altprompt    alt input prompt style\n",
      "  -altmd, --altmarkdown\n",
      "                        alt markdown cell style\n",
      "  -altout, --altoutput  set output bg color to notebook bg\n",
      "  -P, --hideprompt      hide cell input prompt\n",
      "  -T, --toolbar         make toolbar visible\n",
      "  -N, --nbname          nb name/logo visible\n",
      "  -kl, --kernellogo     kernel logo visible\n",
      "  -vim, --vimext        toggle styles for vim\n",
      "  -r, --reset           reset to default theme\n",
      "  -dfonts, --defaultfonts\n",
      "                        force fonts to browser default\n"
     ]
    }
   ],
   "source": [
    "!jt -h"
   ]
  },
  {
   "cell_type": "code",
   "execution_count": 27,
   "id": "ba8d5929",
   "metadata": {},
   "outputs": [],
   "source": [
    "!jt -t chesterish -f bitstream -fs 12 -tf roboto -tfs 13 -nf opensans -nfs 12 -ofs 12 -dfs 12 -cellw 95% -lineh 170 -T -N"
   ]
  },
  {
   "cell_type": "markdown",
   "id": "fe9e1c4e",
   "metadata": {},
   "source": [
    "# Code"
   ]
  },
  {
   "cell_type": "code",
   "execution_count": 1,
   "id": "ec3aa120",
   "metadata": {},
   "outputs": [],
   "source": [
    "import numpy as np\n",
    "import torch\n",
    "import torch.nn as nn\n",
    "import torch.optim as optim\n",
    "import torchvision\n",
    "import torchvision.transforms as transforms"
   ]
  },
  {
   "cell_type": "markdown",
   "id": "70c20f7d",
   "metadata": {},
   "source": [
    "<div class=\"alert alert-block alert-success\">\n",
    "<b>Note: Conv2D part</b> \n",
    "</div>\n",
    "\n",
    "<div class=\"alert alert-block alert-info\">\n",
    "<b>Demonstrate:</b>\n",
    "    <br><b><font color= blue>__init__ </b>: 클래스의 초기화 메서드입니다.\n",
    "    <br><b><font color= blue>in_channels </b>: 입력 채널의 수.\n",
    "    <br><b><font color= blue>out_channels </b>: 출력 채널의 수.\n",
    "    <br><b><font color= blue>kernel_size </b>: 커널(필터)의 크기.\n",
    "    <br><b><font color= blue>super(Conv2D, self).__init__() </b>: 부모 클래스인 nn.Module의 초기화 메서드를 호출하고, self.conv에 nn.Conv2d 객체를 생성하여 할당함.\n",
    "    <br><b><font color= blue>forward </b>: 순전파(forward propagation)를 수행하는 메서드. x를 입력으로 받아 self.conv에 x를 전달하여 합성곱 연산을 수행한 결과를 반환함.\n",
    "</div>"
   ]
  },
  {
   "cell_type": "code",
   "execution_count": 2,
   "id": "aee4aa39",
   "metadata": {},
   "outputs": [],
   "source": [
    "# 합성곱 계층 구현\n",
    "class Conv2D(nn.Module):\n",
    "    def __init__(self, in_channels, out_channels, kernel_size, stride, padding):\n",
    "        super(Conv2D, self).__init__()\n",
    "        self.conv = nn.Conv2d(in_channels, out_channels, kernel_size, stride=stride, padding=padding)\n",
    "        \n",
    "    def forward(self, x):\n",
    "        return self.conv(x)"
   ]
  },
  {
   "cell_type": "markdown",
   "id": "c46bafe2",
   "metadata": {},
   "source": [
    "<div class=\"alert alert-block alert-success\">\n",
    "<b>Note: MaxPooling part</b> \n",
    "</div>\n",
    "\n",
    "<div class=\"alert alert-block alert-info\">\n",
    "<b>Demonstrate:</b>\n",
    "    <br><b><font color= blue>__init__ </b>: 클래스의 초기화 메서드입니다.\n",
    "    <br><b><font color= blue>pool_size </b>: 풀링 영역의 크기.\n",
    "    <br><b><font color= blue>super(MaxPool2D, self).__init__() </b>: 부모 클래스인 nn.Module의 초기화 메서드를 호출함.그리고 self.pool에 nn.MaxPool2d 객체를 생성하여 할당함.\n",
    "    <br><b><font color= blue>forward </b>: 순전파(forward propagation)를 수행하는 메서드. x를 입력으로 받아 self.pool에 x를 전달하여 최대 풀링 연산을 수행한 결과를 반환함.\n",
    "</div>"
   ]
  },
  {
   "cell_type": "code",
   "execution_count": 3,
   "id": "3767466b",
   "metadata": {},
   "outputs": [],
   "source": [
    "# 풀링 계층 구현\n",
    "class MaxPool2D(nn.Module):\n",
    "    def __init__(self, pool_size):\n",
    "        super(MaxPool2D, self).__init__()\n",
    "        self.pool = nn.MaxPool2d(pool_size)\n",
    "        \n",
    "    def forward(self, x):\n",
    "        return self.pool(x)"
   ]
  },
  {
   "cell_type": "markdown",
   "id": "cc2cdd7f",
   "metadata": {},
   "source": [
    "<div class=\"alert alert-block alert-success\">\n",
    "<b>Note: FullyConnect part</b> \n",
    "</div>\n",
    "\n",
    "<div class=\"alert alert-block alert-info\">\n",
    "<b>Demonstrate:</b>\n",
    "    <br><b><font color= blue>__init__ </b>: 클래스의 초기화 메서드입니다.\n",
    "    <br><b><font color= blue>in_features </b>: 입력 특성의 수.\n",
    "    <br><b><font color= blue>out_features </b>: 출력 특성의 수.\n",
    "    <br><b><font color= blue>nn.Linear </b>: 클래스를 사용하여 입력과 출력의 선형 변환을 수행하는 FC 레이어를 생성합니다. 이 때, in_features와 out_features를 인자로 전달하여 선형 변환의 크기를 설정합니다. self.fc는 이 FC 레이어를 나타내는 변수입니다.\n",
    "    <br><b><font color= blue>forward </b>: 순전파(forward propagation)를 수행하는 메서드. 입력 텐서 x를 self.fc로 전달하여 선형 변환을 수행함. 이는 입력과 출력을 완전히 연결하는 가중치와 편향을 적용하는 것을 의미합니다.\n",
    "</div>"
   ]
  },
  {
   "cell_type": "code",
   "execution_count": 4,
   "id": "644f6cb8",
   "metadata": {},
   "outputs": [],
   "source": [
    "# 완전 연결 계층 구현\n",
    "class FullyConnected(nn.Module):\n",
    "    def __init__(self, in_features, out_features):\n",
    "        super(FullyConnected, self).__init__()\n",
    "        self.fc = nn.Linear(in_features, out_features)\n",
    "        \n",
    "    def forward(self, x):\n",
    "        return self.fc(x)"
   ]
  },
  {
   "cell_type": "markdown",
   "id": "5fb4426f",
   "metadata": {},
   "source": [
    "<div class=\"alert alert-block alert-success\">\n",
    "<b>Note: ReLU part</b> \n",
    "</div>\n",
    "\n",
    "<div class=\"alert alert-block alert-info\">\n",
    "<b>Demonstrate:</b>\n",
    "    <br><b><font color= blue>torch.relu() </b>: ReLU 함수는 입력이 0보다 작으면 0으로, 0보다 크면 그대로 출력하는 함수.\n",
    "</div>"
   ]
  },
  {
   "cell_type": "code",
   "execution_count": 26,
   "id": "c12a2aeb",
   "metadata": {},
   "outputs": [],
   "source": [
    "# 활성화 함수 구현 (ReLU)\n",
    "class ReLU(nn.Module):\n",
    "    def forward(self, x):\n",
    "        return torch.max(x, torch.tensor(0.0))\n",
    "    \n",
    "# # 활성화 함수 구현 (ReLU)\n",
    "# class Ltanh(nn.Module):\n",
    "#     def forward(self, x):\n",
    "#         numerator = np.exp(x.detach().numpy()) - np.exp(-x.detach().numpy())\n",
    "#         denominator = np.exp(x.detach().numpy()) + np.exp(-x.detach().numpy())\n",
    "#         tanh = (numerator / denominator) * 0.99\n",
    "#         x = torch.tensor(x.detach().numpy())\n",
    "#         return np.maximum(x, tanh)"
   ]
  },
  {
   "cell_type": "markdown",
   "id": "7c6c5447",
   "metadata": {},
   "source": [
    "<div class=\"alert alert-block alert-success\">\n",
    "<b>Note: SoftMax part</b> \n",
    "</div>\n",
    "\n",
    "<div class=\"alert alert-block alert-info\">\n",
    "<b>Demonstrate:</b>\n",
    "    <br><b><font color= blue>torch.softmax() </b>: 입력 텐서 x에 소프트맥스 함수를 적용함 -> 소프트맥스 함수는 입력 벡터의 각 요소를 0과 1 사이의 확률값으로 변환하는 함수.\n",
    "    <br><b><font color= blue>dim=1 </b>: 소프트맥스 함수를 적용할 차원을 지정합니다. 여기서는 두 번째 차원을 의미하며, 주로 다중 분류 문제에서 사용됨.\n",
    "</div>"
   ]
  },
  {
   "cell_type": "code",
   "execution_count": 6,
   "id": "d44b9514",
   "metadata": {},
   "outputs": [],
   "source": [
    "# 소프트맥스 함수 구현\n",
    "class Softmax(nn.Module):\n",
    "    def forward(self, x):\n",
    "        return torch.softmax(x, dim=1)"
   ]
  },
  {
   "cell_type": "markdown",
   "id": "9ac6a6b9",
   "metadata": {},
   "source": [
    "<div class=\"alert alert-block alert-success\">\n",
    "<b>Note: Load dataset part</b> \n",
    "</div>\n",
    "\n",
    "<div class=\"alert alert-block alert-info\">\n",
    "<b>Demonstrate:</b>\n",
    "    <br><b><font color= blue>transforms.Compose([...]) </b>: 데이터 전처리를 위한 변환(transform)들을 하나로 묶어주는 역할.\n",
    "    <br><b><font color= blue>transforms.ToTensor() </b>: PIL 이미지나 NumPy 배열을 텐서로 변환함.\n",
    "    <br><b><font color= blue>transforms.Normalize((0.5,), (0.5,)) </b>: 텐서의 각 채널에 대해 평균과 표준편차를 사용하여 정규화를 수행함 대부분 모델이 더 잘 학습하도록 돕기 위함. \n",
    "    <br><b><font color= blue>trainset = torchvision.datasets.MNIST(...) </b>: 훈련데이터로 가져오고, 다운로드하고, transform은 위에서 정의한 transform 적용함. \n",
    "    <br><b><font color= blue>trainloader = torch.utils.data.DataLoader(...) </b>: 데이터셋을 미니배치로 나누고 데이터를 섞어주는 데이터로더(DataLoader)를 생성함. \n",
    "</div>"
   ]
  },
  {
   "cell_type": "code",
   "execution_count": 7,
   "id": "fa17982b",
   "metadata": {},
   "outputs": [],
   "source": [
    "# 데이터셋 불러오기\n",
    "def load_dataset():\n",
    "    transform = transforms.Compose([\n",
    "        transforms.ToTensor(),\n",
    "        transforms.Normalize((0.1307,), (0.3081,))\n",
    "    ])\n",
    "\n",
    "    trainset = torchvision.datasets.MNIST(root='./data', train=True, download=True, transform=transform)\n",
    "    trainloader = torch.utils.data.DataLoader(trainset, batch_size=batch_size, shuffle=True)\n",
    "    testset = torchvision.datasets.MNIST(root='./data', train=False, download=True, transform=transform)\n",
    "    testloader = torch.utils.data.DataLoader(testset, batch_size=batch_size, shuffle=False)\n",
    "\n",
    "    return trainloader, testloader"
   ]
  },
  {
   "cell_type": "markdown",
   "id": "6bd001fe",
   "metadata": {},
   "source": [
    "<div class=\"alert alert-block alert-success\">\n",
    "<b>Note: Find the Optimize value of mean and std</b> \n",
    "</div>"
   ]
  },
  {
   "cell_type": "code",
   "execution_count": 8,
   "id": "58e3deb4",
   "metadata": {},
   "outputs": [
    {
     "name": "stdout",
     "output_type": "stream",
     "text": [
      "Mean: tensor(0.1307)\n",
      "Standard Deviation: tensor(0.3081)\n"
     ]
    }
   ],
   "source": [
    "import torchvision.datasets as datasets\n",
    "\n",
    "# MNIST 데이터셋 불러오기\n",
    "trainset = datasets.MNIST(root='./data', train=True, download=True)\n",
    "\n",
    "# 데이터셋의 이미지 가져오기\n",
    "images = trainset.data\n",
    "\n",
    "# 이미지의 평균과 표준편차 계산\n",
    "mean = images.float().mean() / 255\n",
    "std = images.float().std() / 255\n",
    "\n",
    "print(\"Mean:\", mean)\n",
    "print(\"Standard Deviation:\", std)"
   ]
  },
  {
   "cell_type": "markdown",
   "id": "2f128d1d",
   "metadata": {},
   "source": [
    "<div class=\"alert alert-block alert-success\">\n",
    "<b>Note: training part</b> \n",
    "</div>\n",
    "\n",
    "<div class=\"alert alert-block alert-info\">\n",
    "<b>Demonstrate:</b>\n",
    "    <br><b><font color= blue>nn.CrossEntropyLoss() </b>: 손실 함수를 사용하여 예측값과 실제 레이블(labels) 사이의 손실을 계산합니다.\n",
    "    <br><b><font color= blue>optimizer.zero_grad() </b>: 옵티마이저의 그래디언트를 0으로 초기화함.\n",
    "    <br><b><font color= blue>loss.backward(),optimizer.step() </b>: 역전파를 통해 그래디언트를 계산하고, 옵티마이저를 사용하여 모델의 가중치를 업데이트함.    \n",
    "    <br><b><font color= blue>running_loss </b>: 현재까지 미니배치의 손실 합계. \n",
    "    <br><b><font color= blue>loss.item() </b>: 현재 미니배치에 대한 손실. \n",
    "</div>"
   ]
  },
  {
   "cell_type": "code",
   "execution_count": 9,
   "id": "c37e6ce3",
   "metadata": {},
   "outputs": [],
   "source": [
    "# 학습 함수\n",
    "def train(model, trainloader, learning_rate, num_epochs):\n",
    "    criterion = nn.CrossEntropyLoss()\n",
    "    optimizer = optim.Adam(model.parameters(), lr=learning_rate)\n",
    "    train_loss = []\n",
    "    for epoch in range(num_epochs):\n",
    "        running_loss = 0.0\n",
    "        for i, (inputs, labels) in enumerate(trainloader):\n",
    "            # Forward 계산\n",
    "            outputs = model(inputs)\n",
    "\n",
    "            # 손실 계산\n",
    "            loss = criterion(outputs, labels)\n",
    "\n",
    "            # Backward 계산 및 가중치 업데이트\n",
    "            optimizer.zero_grad()\n",
    "            loss.backward()\n",
    "            optimizer.step()\n",
    "\n",
    "            running_loss += loss.item()\n",
    "            train_loss.append(loss.item())\n",
    "            \n",
    "            if i % 100 == 99:\n",
    "                print(f'[Epoch {epoch+1}, Batch {i+1}] Loss: {running_loss / 100:.3f}')\n",
    "                running_loss = 0.0\n",
    "\n",
    "    print('Training finished')\n",
    "    return train_loss"
   ]
  },
  {
   "cell_type": "markdown",
   "id": "79c5f6b7",
   "metadata": {},
   "source": [
    "<div class=\"alert alert-block alert-success\">\n",
    "<b>Note: testing part</b> \n",
    "</div>\n",
    "\n",
    "<div class=\"alert alert-block alert-info\">\n",
    "<b>Demonstrate:</b>\n",
    "    <br><b><font color= blue>torch.no_grad() </b>: 그래디언트 계산을 비활성화함. 테스트 단계는 불 필요하기에, 메모리 절약 및 속도 향샹을 위해 비활성화함.\n",
    "    <br><b><font color= blue>torch.max(outputs.data, 1) </b>: 각 테스트 샘플에 대해 가장 큰 확률 값, 두번째 열.\n",
    "    <br><b><font color= blue>loss.backward(),optimizer.step() </b>: 역전파를 통해 그래디언트를 계산하고, 옵티마이저를 사용하여 모델의 가중치를 업데이트함.    \n",
    "    <br><b><font color= blue>running_loss </b>: 현재까지 미니배치의 손실 합계. \n",
    "    <br><b><font color= blue>loss.item() </b>: 현재 미니배치에 대한 손실. \n",
    "</div>"
   ]
  },
  {
   "cell_type": "code",
   "execution_count": 10,
   "id": "825f6c58",
   "metadata": {},
   "outputs": [],
   "source": [
    "# 테스트 함수\n",
    "def test(model, testloader):\n",
    "    correct = 0\n",
    "    total = 0\n",
    "    test_score = []\n",
    "    with torch.no_grad():\n",
    "        for inputs, labels in testloader:\n",
    "            outputs = model(inputs)\n",
    "            _, predicted = torch.max(outputs.data, 1)\n",
    "            total += labels.size(0)\n",
    "            correct += (predicted == labels).sum().item()\n",
    "            sub = correct / total * 100\n",
    "            test_score.append(sub)\n",
    "    accuracy = correct / total * 100\n",
    "    print(f'Accuracy on test dataset: {accuracy:.2f}%')\n",
    "    return test_score"
   ]
  },
  {
   "cell_type": "markdown",
   "id": "69d80ccb",
   "metadata": {},
   "source": [
    "<div class=\"alert alert-block alert-success\">\n",
    "<b>Note: save model part</b> \n",
    "</div>"
   ]
  },
  {
   "cell_type": "code",
   "execution_count": 11,
   "id": "d3055d93",
   "metadata": {},
   "outputs": [],
   "source": [
    "# 모델 저장 함수\n",
    "def save_model(model, filepath):\n",
    "    torch.save(model.state_dict(), filepath)\n",
    "    print(f\"Model saved at {filepath}\")\n"
   ]
  },
  {
   "cell_type": "code",
   "execution_count": 27,
   "id": "1d009466",
   "metadata": {},
   "outputs": [],
   "source": [
    "# 모델 생성\n",
    "class CNNModel(nn.Module):\n",
    "    def __init__(self):\n",
    "        super(CNNModel, self).__init__()\n",
    "        self.model = nn.Sequential(\n",
    "            Conv2D(in_channels=1, out_channels=16, kernel_size=5, stride=1, padding=0),\n",
    "            Ltanh(),\n",
    "            MaxPool2D(pool_size=2),\n",
    "            Conv2D(in_channels=16, out_channels=32, kernel_size=5, stride=1, padding=0),\n",
    "            Ltanh(),\n",
    "            MaxPool2D(pool_size=2),\n",
    "        )\n",
    "        self.fc1 = FullyConnected(in_features=32*4*4, out_features=10)\n",
    "#         self.relu = ReLU()\n",
    "#         self.fc2 = FullyConnected(in_features=128, out_features=10)\n",
    "#         self.softmax = Softmax()\n",
    "#         softmax(x_i) = exp(x_i) / sum(exp(x_j))    \n",
    "    def forward(self, x):\n",
    "        x = self.model(x)\n",
    "        x = x.view(x.size(0), -1)  # Flatten\n",
    "        x = self.fc1(x)\n",
    "#         x = self.relu(x)\n",
    "#         x = self.fc2(x)\n",
    "#         x = self.softmax(x)\n",
    "        return x"
   ]
  },
  {
   "cell_type": "code",
   "execution_count": 28,
   "id": "94cc32cf",
   "metadata": {
    "scrolled": true
   },
   "outputs": [
    {
     "name": "stdout",
     "output_type": "stream",
     "text": [
      "21\n",
      "[Epoch 1, Batch 100] Loss: 0.463\n",
      "[Epoch 1, Batch 200] Loss: 0.246\n",
      "[Epoch 1, Batch 300] Loss: 0.196\n",
      "[Epoch 1, Batch 400] Loss: 0.169\n",
      "[Epoch 2, Batch 100] Loss: 0.146\n",
      "[Epoch 2, Batch 200] Loss: 0.129\n",
      "[Epoch 2, Batch 300] Loss: 0.129\n",
      "[Epoch 2, Batch 400] Loss: 0.134\n",
      "[Epoch 3, Batch 100] Loss: 0.126\n",
      "[Epoch 3, Batch 200] Loss: 0.113\n",
      "[Epoch 3, Batch 300] Loss: 0.113\n",
      "[Epoch 3, Batch 400] Loss: 0.112\n",
      "[Epoch 4, Batch 100] Loss: 0.109\n",
      "[Epoch 4, Batch 200] Loss: 0.107\n",
      "[Epoch 4, Batch 300] Loss: 0.094\n",
      "[Epoch 4, Batch 400] Loss: 0.101\n",
      "[Epoch 5, Batch 100] Loss: 0.099\n",
      "[Epoch 5, Batch 200] Loss: 0.094\n",
      "[Epoch 5, Batch 300] Loss: 0.102\n",
      "[Epoch 5, Batch 400] Loss: 0.092\n",
      "[Epoch 6, Batch 100] Loss: 0.088\n",
      "[Epoch 6, Batch 200] Loss: 0.084\n",
      "[Epoch 6, Batch 300] Loss: 0.092\n",
      "[Epoch 6, Batch 400] Loss: 0.096\n",
      "[Epoch 7, Batch 100] Loss: 0.086\n",
      "[Epoch 7, Batch 200] Loss: 0.091\n",
      "[Epoch 7, Batch 300] Loss: 0.085\n",
      "[Epoch 7, Batch 400] Loss: 0.091\n",
      "[Epoch 8, Batch 100] Loss: 0.075\n",
      "[Epoch 8, Batch 200] Loss: 0.084\n",
      "[Epoch 8, Batch 300] Loss: 0.089\n",
      "[Epoch 8, Batch 400] Loss: 0.086\n",
      "[Epoch 9, Batch 100] Loss: 0.083\n",
      "[Epoch 9, Batch 200] Loss: 0.073\n",
      "[Epoch 9, Batch 300] Loss: 0.086\n",
      "[Epoch 9, Batch 400] Loss: 0.087\n",
      "[Epoch 10, Batch 100] Loss: 0.078\n",
      "[Epoch 10, Batch 200] Loss: 0.077\n",
      "[Epoch 10, Batch 300] Loss: 0.082\n",
      "[Epoch 10, Batch 400] Loss: 0.085\n",
      "[Epoch 11, Batch 100] Loss: 0.077\n",
      "[Epoch 11, Batch 200] Loss: 0.073\n",
      "[Epoch 11, Batch 300] Loss: 0.084\n",
      "[Epoch 11, Batch 400] Loss: 0.076\n",
      "[Epoch 12, Batch 100] Loss: 0.080\n",
      "[Epoch 12, Batch 200] Loss: 0.077\n",
      "[Epoch 12, Batch 300] Loss: 0.077\n",
      "[Epoch 12, Batch 400] Loss: 0.075\n",
      "[Epoch 13, Batch 100] Loss: 0.066\n",
      "[Epoch 13, Batch 200] Loss: 0.075\n",
      "[Epoch 13, Batch 300] Loss: 0.083\n",
      "[Epoch 13, Batch 400] Loss: 0.085\n",
      "[Epoch 14, Batch 100] Loss: 0.063\n",
      "[Epoch 14, Batch 200] Loss: 0.073\n",
      "[Epoch 14, Batch 300] Loss: 0.066\n",
      "[Epoch 14, Batch 400] Loss: 0.078\n",
      "[Epoch 15, Batch 100] Loss: 0.071\n",
      "[Epoch 15, Batch 200] Loss: 0.069\n",
      "[Epoch 15, Batch 300] Loss: 0.067\n",
      "[Epoch 15, Batch 400] Loss: 0.078\n",
      "[Epoch 16, Batch 100] Loss: 0.063\n",
      "[Epoch 16, Batch 200] Loss: 0.060\n",
      "[Epoch 16, Batch 300] Loss: 0.074\n",
      "[Epoch 16, Batch 400] Loss: 0.073\n",
      "[Epoch 17, Batch 100] Loss: 0.072\n",
      "[Epoch 17, Batch 200] Loss: 0.066\n",
      "[Epoch 17, Batch 300] Loss: 0.064\n",
      "[Epoch 17, Batch 400] Loss: 0.075\n",
      "[Epoch 18, Batch 100] Loss: 0.066\n",
      "[Epoch 18, Batch 200] Loss: 0.070\n",
      "[Epoch 18, Batch 300] Loss: 0.066\n",
      "[Epoch 18, Batch 400] Loss: 0.069\n",
      "[Epoch 19, Batch 100] Loss: 0.062\n",
      "[Epoch 19, Batch 200] Loss: 0.058\n",
      "[Epoch 19, Batch 300] Loss: 0.074\n",
      "[Epoch 19, Batch 400] Loss: 0.066\n",
      "[Epoch 20, Batch 100] Loss: 0.066\n",
      "[Epoch 20, Batch 200] Loss: 0.077\n",
      "[Epoch 20, Batch 300] Loss: 0.061\n",
      "[Epoch 20, Batch 400] Loss: 0.066\n",
      "[Epoch 21, Batch 100] Loss: 0.059\n",
      "[Epoch 21, Batch 200] Loss: 0.057\n",
      "[Epoch 21, Batch 300] Loss: 0.070\n",
      "[Epoch 21, Batch 400] Loss: 0.069\n",
      "Training finished\n",
      "Accuracy on test dataset: 97.15%\n",
      "Model saved at model.pt\n"
     ]
    }
   ],
   "source": [
    "model = CNNModel()\n",
    "\n",
    "# 하이퍼파라미터 설정\n",
    "learning_rate = 0.01\n",
    "num_epochs = 21\n",
    "batch_size = 128\n",
    "trainloader, testloader = load_dataset()\n",
    "print(int(10000 / len(trainloader)))\n",
    "\n",
    "# 데이터셋 로드\n",
    "trainloader, testloader = load_dataset()\n",
    "\n",
    "# 학습\n",
    "training_loss = train(model, trainloader, learning_rate, num_epochs)\n",
    "\n",
    "# 테스트\n",
    "test_accuracy = test(model, testloader)\n",
    "\n",
    "# 모델 저장\n",
    "save_model(model, 'model.pt')\n",
    "# relu [Epoch 21, Batch 400] Loss: 0.053 Accuracy on test dataset: 97.87%\n",
    "# tck [Epoch 21, Batch 400] Loss: 0.080 Accuracy on test dataset: 96.93% 0.99안곱한거\n",
    "# Ltanh [Epoch 21, Batch 400] Loss: 0.069 Accuracy on test dataset: 97.15%"
   ]
  },
  {
   "cell_type": "code",
   "execution_count": null,
   "id": "ce69441f",
   "metadata": {
    "scrolled": true
   },
   "outputs": [],
   "source": [
    "import matplotlib.pyplot as plt\n",
    "\n",
    "# visualization\n",
    "plt.plot(range(num_epochs), training_loss, 'b-', label='Training_loss')\n",
    "plt.title('Training loss')\n",
    "plt.xlabel('Number of epochs')\n",
    "plt.ylabel('Loss')\n",
    "plt.legend()\n",
    "plt.show()"
   ]
  },
  {
   "cell_type": "code",
   "execution_count": null,
   "id": "d1d02385",
   "metadata": {},
   "outputs": [],
   "source": [
    "plt.plot(range(num_epochs), test_accuracy, 'b-', label='Training_accuracy')\n",
    "plt.title('Testing accuracy')\n",
    "plt.xlabel('Number of epochs')\n",
    "plt.ylabel('Accuracy')\n",
    "plt.legend()\n",
    "plt.show()"
   ]
  }
 ],
 "metadata": {
  "kernelspec": {
   "display_name": "Python 3 (ipykernel)",
   "language": "python",
   "name": "python3"
  },
  "language_info": {
   "codemirror_mode": {
    "name": "ipython",
    "version": 3
   },
   "file_extension": ".py",
   "mimetype": "text/x-python",
   "name": "python",
   "nbconvert_exporter": "python",
   "pygments_lexer": "ipython3",
   "version": "3.9.12"
  }
 },
 "nbformat": 4,
 "nbformat_minor": 5
}
